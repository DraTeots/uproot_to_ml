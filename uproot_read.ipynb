{
 "cells": [
  {
   "cell_type": "markdown",
   "metadata": {
    "collapsed": true,
    "pycharm": {
     "name": "#%% md\n"
    }
   },
   "source": [
    "Run pip install if there is no uproot package:\n",
    "```bash\n",
    "pip install uproot4 awkward1 particle boost-histogram matplotlib  pandas numexpr autograd hist hist[plot] ipy_table\n",
    "```\n",
    "\n",
    "You can install it right from jupyter by adding ! in the begining. Create a new cell in Jupyter and put there\n",
    "\n",
    "```python\n",
    " !pip ... # the line above\n",
    "```\n",
    "\n",
    "\"!\" sign allows to run any console command. Like\n",
    "\n",
    "```python\n",
    " !env|grep USER\n",
    "```\n",
    "That is cool because you can save and document bash commands.\n",
    "One can even install pure bash notebooks (with bash language instead of python)\n"
   ]
  },
  {
   "cell_type": "code",
   "source": [
    "!ls -lah *.root"
   ],
   "metadata": {
    "collapsed": false,
    "pycharm": {
     "name": "#%%\n"
    }
   },
   "execution_count": 1,
   "outputs": [
    {
     "name": "stdout",
     "output_type": "stream",
     "text": [
      "-rw-rw-r-- 1 romanov romanov 3.0M Dec 13 13:07 mlp_run001439.root\r\n",
      "-rw-rw-r-- 1 romanov romanov 525K Dec 13 13:06 mlp_run073032.root\r\n"
     ]
    }
   ]
  },
  {
   "cell_type": "code",
   "execution_count": 2,
   "outputs": [
    {
     "data": {
      "text/plain": "[('sig_tst;1', <TTree 'sig_tst' (21 branches) at 0x7f93f69c60a0>),\n ('bg_tst;1', <TTree 'bg_tst' (21 branches) at 0x7f93f6913550>),\n ('signal;1', <TTree 'signal' (20 branches) at 0x7f93f68d2070>),\n ('background;1', <TTree 'background' (20 branches) at 0x7f93f688a3a0>),\n ('simu;1', <TTree 'simu' (21 branches) at 0x7f93f68436d0>),\n ('dispe;1', <TH2F (version 4) at 0x7f93f681a190>),\n ('disppi;1', <TH2F (version 4) at 0x7f93f6801340>),\n ('hits2d;1', <TH2F (version 4) at 0x7f93f68013a0>),\n ('hbeamX;1', <TH1F (version 3) at 0x7f93f6722c70>),\n ('rad2d;1', <TH2F (version 4) at 0x7f93f6614580>),\n ('norad2d;1', <TH2F (version 4) at 0x7f93f66145e0>),\n ('gem2d;1', <TH2F (version 4) at 0x7f93f66c7190>),\n ('rad;1', <TH1F (version 3) at 0x7f93f66cf550>),\n ('norad;1', <TH1F (version 3) at 0x7f93f66cf5b0>),\n ('rad2;1', <TH1F (version 3) at 0x7f93f66a6790>),\n ('norad2;1', <TH1F (version 3) at 0x7f93f66c4a00>),\n ('rad2e;1', <TH1F (version 3) at 0x7f93f66c4a60>),\n ('norad2e;1', <TH1F (version 3) at 0x7f93f66e0400>),\n ('hxdiff;1', <TH1F (version 3) at 0x7f93f6679850>),\n ('h2xdiff;1', <TH2F (version 4) at 0x7f93f66798e0>),\n ('zrad2;1', <TH1F (version 3) at 0x7f93f6688250>),\n ('znorad2;1', <TH1F (version 3) at 0x7f93f662c0d0>),\n ('time_e;1', <TH1F (version 3) at 0x7f93f662c130>),\n ('time_pi;1', <TH1F (version 3) at 0x7f93f6630220>),\n ('ampl;1', <TH1F (version 3) at 0x7f93f6640d60>),\n ('par_e_0;1', <TH1F (version 3) at 0x7f93f6640dc0>),\n ('par_pi_0;1', <TH1F (version 3) at 0x7f93f6651790>),\n ('par_e_1;1', <TH1F (version 3) at 0x7f93f65a8310>),\n ('par_pi_1;1', <TH1F (version 3) at 0x7f93f65a8370>),\n ('par_e_2;1', <TH1F (version 3) at 0x7f93f65b2d60>),\n ('par_pi_2;1', <TH1F (version 3) at 0x7f93f65d31c0>),\n ('par_e_3;1', <TH1F (version 3) at 0x7f93f65d3220>),\n ('par_pi_3;1', <TH1F (version 3) at 0x7f93f65ddbb0>),\n ('par_e_4;1', <TH1F (version 3) at 0x7f93f64bbfd0>),\n ('par_pi_4;1', <TH1F (version 3) at 0x7f93f64c9a00>),\n ('par_e_5;1', <TH1F (version 3) at 0x7f93f64c9a60>),\n ('par_pi_5;1', <TH1F (version 3) at 0x7f93f64db430>),\n ('par_e_6;1', <TH1F (version 3) at 0x7f93f6477850>),\n ('par_pi_6;1', <TH1F (version 3) at 0x7f93f64778b0>),\n ('par_e_7;1', <TH1F (version 3) at 0x7f93f6488280>),\n ('par_pi_7;1', <TH1F (version 3) at 0x7f93f64a36a0>),\n ('par_e_8;1', <TH1F (version 3) at 0x7f93f64a3700>),\n ('par_pi_8;1', <TH1F (version 3) at 0x7f93f64350d0>),\n ('par_e_9;1', <TH1F (version 3) at 0x7f93f644f4f0>),\n ('par_pi_9;1', <TH1F (version 3) at 0x7f93f644f550>),\n ('par_e_10;1', <TH1F (version 3) at 0x7f93f645cee0>),\n ('par_pi_10;1', <TH1F (version 3) at 0x7f93f63fc340>),\n ('par_e_11;1', <TH1F (version 3) at 0x7f93f63fc3a0>),\n ('par_pi_11;1', <TH1F (version 3) at 0x7f93f6407d30>),\n ('par_e_12;1', <TH1F (version 3) at 0x7f93f63aa190>),\n ('par_pi_12;1', <TH1F (version 3) at 0x7f93f63aa1f0>),\n ('par_e_13;1', <TH1F (version 3) at 0x7f93f63b6b80>),\n ('par_pi_13;1', <TH1F (version 3) at 0x7f93f63d0fa0>),\n ('par_e_14;1', <TH1F (version 3) at 0x7f93f63e29d0>),\n ('par_pi_14;1', <TH1F (version 3) at 0x7f93f63e2a30>),\n ('par_e_15;1', <TH1F (version 3) at 0x7f93f6372400>),\n ('par_pi_15;1', <TH1F (version 3) at 0x7f93f638f820>),\n ('par_e_16;1', <TH1F (version 3) at 0x7f93f638f880>),\n ('par_pi_16;1', <TH1F (version 3) at 0x7f93f63a0250>),\n ('par_e_17;1', <TH1F (version 3) at 0x7f93f633b670>),\n ('par_pi_17;1', <TH1F (version 3) at 0x7f93f633b6d0>),\n ('par_e_18;1', <TH1F (version 3) at 0x7f93f634d0a0>),\n ('par_pi_18;1', <TH1F (version 3) at 0x7f93f62e84c0>),\n ('fTrainingList_140320438899488;1',\n  <TEventList (version 4) at 0x7f93f62e8520>),\n ('fTestList_140320438899488;1', <TEventList (version 4) at 0x7f93f6305880>),\n ('bgh;1', <TH1F (version 3) at 0x7f93f6305d60>),\n ('sigh;1', <TH1F (version 3) at 0x7f93f6305f40>),\n ('bgm;1', <TH1F (version 3) at 0x7f93f6305f10>),\n ('sigm;1', <TH1F (version 3) at 0x7f93f6315220>),\n ('err;1', <TH1F (version 3) at 0x7f93f6315280>),\n ('trka;1', <TH1F (version 3) at 0x7f93f631c370>),\n ('trka2;1', <TH2F (version 4) at 0x7f93f62aaee0>)]"
     },
     "execution_count": 2,
     "metadata": {},
     "output_type": "execute_result"
    }
   ],
   "source": [
    "import uproot4\n",
    "\n",
    "# For pretty printing arrays\n",
    "from pprint import pprint\n",
    "\n",
    "file=uproot4.open(\"mlp_run073032.root\")\n",
    "\n",
    "# To see all object names in the file:\n",
    "file.items()\n",
    "#pprint(zip(file.keys(), file.values()))\n",
    "\n",
    "# To see items in subdirectories\n",
    "# file.keys(recursive=True)\n",
    "\n",
    "# There are more functions related to file:\n",
    "# https://uproot.readthedocs.io/en/latest/uproot.reading.ReadOnlyFile.html\n",
    "\n",
    "# Root directories:\n",
    "# https://uproot.readthedocs.io/en/latest/uproot.reading.ReadOnlyDirectory.html\n",
    "\n",
    "# To read multiple files at once (aka TChain)\n",
    "# https://uproot.readthedocs.io/en/latest/basic.html#iterating-over-many-files\n"
   ],
   "metadata": {
    "collapsed": false,
    "pycharm": {
     "name": "#%%\n"
    }
   }
  },
  {
   "cell_type": "code",
   "execution_count": 3,
   "outputs": [
    {
     "name": "stdout",
     "output_type": "stream",
     "text": [
      "Number of entries: 59\n",
      "name                 | typename                 | interpretation                \n",
      "---------------------+--------------------------+-------------------------------\n",
      "par0                 | float                    | AsDtype('>f4')\n",
      "par1                 | float                    | AsDtype('>f4')\n",
      "par2                 | float                    | AsDtype('>f4')\n",
      "par3                 | float                    | AsDtype('>f4')\n",
      "par4                 | float                    | AsDtype('>f4')\n",
      "par5                 | float                    | AsDtype('>f4')\n",
      "par6                 | float                    | AsDtype('>f4')\n",
      "par7                 | float                    | AsDtype('>f4')\n",
      "par8                 | float                    | AsDtype('>f4')\n",
      "par9                 | float                    | AsDtype('>f4')\n",
      "par10                | float                    | AsDtype('>f4')\n",
      "par11                | float                    | AsDtype('>f4')\n",
      "par12                | float                    | AsDtype('>f4')\n",
      "par13                | float                    | AsDtype('>f4')\n",
      "par14                | float                    | AsDtype('>f4')\n",
      "par15                | float                    | AsDtype('>f4')\n",
      "par16                | float                    | AsDtype('>f4')\n",
      "par17                | float                    | AsDtype('>f4')\n",
      "par18                | float                    | AsDtype('>f4')\n",
      "ievent               | int32_t                  | AsDtype('>i4')\n"
     ]
    }
   ],
   "source": [
    "# Get trees\n",
    "signal_tree = file['signal']\n",
    "background_tree = file['background']\n",
    "\n",
    "# Print number of entries\n",
    "print(f\"Number of entries: {signal_tree.num_entries}\")\n",
    "\n",
    "# To look at tree branches and their types\n",
    "background_tree.show()\n",
    "\n",
    "# More TBranch functions:\n",
    "#https://uproot.readthedocs.io/en/latest/uproot.behaviors.TBranch.TBranch.html\n"
   ],
   "metadata": {
    "collapsed": false,
    "pycharm": {
     "name": "#%%\n"
    }
   }
  },
  {
   "cell_type": "code",
   "execution_count": 4,
   "outputs": [
    {
     "name": "stdout",
     "output_type": "stream",
     "text": [
      "[ 5.81875    7.471875   4.9234376 88.425     10.348437   5.2375\n",
      "  5.4046874 22.153126  22.614063   7.365625   3.134375   0.\n",
      "  8.19375   42.84844   12.860937   7.928125  10.65625   24.275\n",
      "  5.290625   9.732813  15.090625  57.02656   12.657812   6.8390627\n",
      " 10.223437   0.         7.834375   3.8671875  2.6625    30.889063\n",
      " 72.79375    5.7390623 16.839062   0.        80.44844    8.839063\n",
      " 16.170313   9.325     44.259377  13.259375  30.85625   36.82969\n",
      "  7.1734376 20.957813  10.6953125  3.3390625 14.360937   0.\n",
      " 25.832813  10.0859375  2.5515625  9.615625   3.6984375  7.5109377\n",
      "  9.040625  60.15625    9.275     25.420313  13.359375 ]\n"
     ]
    }
   ],
   "source": [
    "# To load WHOLE branch as an array:\n",
    "par0 = signal_tree['par0'].array(library='np')\n",
    "\n",
    "# library=np to return/convert array as a numpy library. Kind of standard to work with tensorflow\n",
    "print(par0)"
   ],
   "metadata": {
    "collapsed": false,
    "pycharm": {
     "name": "#%%\n"
    }
   }
  },
  {
   "cell_type": "code",
   "execution_count": 5,
   "outputs": [],
   "source": [
    "# It is possible to convert multiple branches, apply formulas, aliases, etc.\n",
    "# arrays method is to be used for this\n",
    "\n",
    "# For numpy:\n",
    "params = signal_tree.arrays(filter_name=\"par*\", library='np')\n",
    "\n",
    "# The resulting will be a dict like:\n",
    "# { 'par0': array([ 5.81875  ,  7.471875 ,  ...],\n",
    "#   'par1': array([ 5., 14.,  3., ... ],\n",
    "#   ...}\n",
    "\n",
    "# If you need only arrays:\n",
    "array_of_params = params.values()\n",
    "\n",
    "# Finally you can unpack it as values (I use only 3 of pars here using [0,1,2] mask)\n",
    "par0, par1, par2 = signal_tree.arrays(filter_name=\"par[0,1,2]\", library='np').values()\n",
    "\n",
    "# Full info on this array methods\n",
    "# https://uproot.readthedocs.io/en/latest/basic.html#reading-multiple-tbranches-as-a-group-of-arrays"
   ],
   "metadata": {
    "collapsed": false,
    "pycharm": {
     "name": "#%%\n"
    }
   }
  },
  {
   "cell_type": "code",
   "execution_count": 6,
   "outputs": [
    {
     "data": {
      "text/plain": "   par1       par2       par3       par4  par5\n0   5.0   4.378750   1.662219   1.049594   0.0\n1  14.0   8.333438   6.141594   3.248687   0.0\n2   3.0   2.818438   0.584703   0.000000   0.0\n3  20.0  70.418747  49.566578  47.095421  14.0\n4  11.0   5.943438   4.185469   3.018703   0.0",
      "text/html": "<div>\n<style scoped>\n    .dataframe tbody tr th:only-of-type {\n        vertical-align: middle;\n    }\n\n    .dataframe tbody tr th {\n        vertical-align: top;\n    }\n\n    .dataframe thead th {\n        text-align: right;\n    }\n</style>\n<table border=\"1\" class=\"dataframe\">\n  <thead>\n    <tr style=\"text-align: right;\">\n      <th></th>\n      <th>par1</th>\n      <th>par2</th>\n      <th>par3</th>\n      <th>par4</th>\n      <th>par5</th>\n    </tr>\n  </thead>\n  <tbody>\n    <tr>\n      <th>0</th>\n      <td>5.0</td>\n      <td>4.378750</td>\n      <td>1.662219</td>\n      <td>1.049594</td>\n      <td>0.0</td>\n    </tr>\n    <tr>\n      <th>1</th>\n      <td>14.0</td>\n      <td>8.333438</td>\n      <td>6.141594</td>\n      <td>3.248687</td>\n      <td>0.0</td>\n    </tr>\n    <tr>\n      <th>2</th>\n      <td>3.0</td>\n      <td>2.818438</td>\n      <td>0.584703</td>\n      <td>0.000000</td>\n      <td>0.0</td>\n    </tr>\n    <tr>\n      <th>3</th>\n      <td>20.0</td>\n      <td>70.418747</td>\n      <td>49.566578</td>\n      <td>47.095421</td>\n      <td>14.0</td>\n    </tr>\n    <tr>\n      <th>4</th>\n      <td>11.0</td>\n      <td>5.943438</td>\n      <td>4.185469</td>\n      <td>3.018703</td>\n      <td>0.0</td>\n    </tr>\n  </tbody>\n</table>\n</div>"
     },
     "execution_count": 6,
     "metadata": {},
     "output_type": "execute_result"
    }
   ],
   "source": [
    "# Another very popular array/data manipulation library in python is Pandas,\n",
    "# Just set library=pd to save to pandas\n",
    "\n",
    "params = signal_tree.arrays(filter_name=\"par[1-5]\", library='pd')\n",
    "\n",
    "# Library=pd\n",
    "params.head()\n"
   ],
   "metadata": {
    "collapsed": false,
    "pycharm": {
     "name": "#%%\n"
    }
   }
  },
  {
   "cell_type": "code",
   "execution_count": 7,
   "outputs": [
    {
     "name": "stdout",
     "output_type": "stream",
     "text": [
      "<Array [{par0: 5.82, ... ievent: 55192}] type='10 * {\"par0\": float32, \"par1\": fl...'>\n",
      "<Array [{par0: 3.13, ... ievent: 86118}] type='10 * {\"par0\": float32, \"par1\": fl...'>\n",
      "<Array [{par0: 15.1, ... ievent: 100461}] type='10 * {\"par0\": float32, \"par1\": f...'>\n",
      "<Array [{par0: 72.8, ... ievent: 131768}] type='10 * {\"par0\": float32, \"par1\": f...'>\n",
      "<Array [{par0: 30.9, ... ievent: 180163}] type='10 * {\"par0\": float32, \"par1\": f...'>\n",
      "<Array [{par0: 2.55, ... ievent: 216776}] type='9 * {\"par0\": float32, \"par1\": fl...'>\n"
     ]
    }
   ],
   "source": [
    "# (!!!!)  THAT IS IT  (!!!!)\n",
    "\n",
    "# If you have a large file, you want to read it in chunks. The chunks are arrays as above\n",
    "#https://uproot.readthedocs.io/en/latest/basic.html#iterating-over-intervals-of-entries\n",
    "\n",
    "# The idea is to make those chunks the same size as training batches\n",
    "for batch in signal_tree.iterate(step_size=10):\n",
    "    print(repr(batch))\n",
    "\n",
    "# Iterate has the same functionality as 'arrays'\n",
    "# https://uproot.readthedocs.io/en/latest/uproot.behaviors.TBranch.TBranch.html#iterate\n"
   ],
   "metadata": {
    "collapsed": false,
    "pycharm": {
     "name": "#%%\n"
    }
   }
  },
  {
   "cell_type": "markdown",
   "source": [
    "## Histograms"
   ],
   "metadata": {
    "collapsed": false,
    "pycharm": {
     "name": "#%% md\n"
    }
   }
  },
  {
   "cell_type": "code",
   "execution_count": 8,
   "outputs": [
    {
     "data": {
      "text/plain": "[StepArtists(step=<matplotlib.lines.Line2D object at 0x7f93cdb052e0>, errorbar=None, legend_artist=None)]"
     },
     "execution_count": 8,
     "metadata": {},
     "output_type": "execute_result"
    },
    {
     "data": {
      "text/plain": "<Figure size 432x288 with 1 Axes>",
      "image/png": "[encoded data removed]"
     },
     "metadata": {
      "needs_background": "light"
     },
     "output_type": "display_data"
    }
   ],
   "source": [
    "from hist import Hist\n",
    "import hist\n",
    "\n",
    "# If you need to build a histogram from a tree, here is the most \"ROOT way\":\n",
    "\n",
    "# fill the axes\n",
    "axis = hist.axis.Regular(50, 0, 100, name=\"S\", label=\"s [units]\", underflow=False, overflow=False)\n",
    "h = Hist(axis)\n",
    "\n",
    "h.fill(par0)\n",
    "h.plot()\n",
    "\n",
    "# More on hist library\n",
    "# https://hist.readthedocs.io/en/latest/\n",
    "# https://github.com/scikit-hep/hist\n",
    "\n",
    "# The library is very new and there might be bugs, there are a couple of other\n",
    "# libraries that can work with histograms. Let me know"
   ],
   "metadata": {
    "collapsed": false,
    "pycharm": {
     "name": "#%%\n"
    }
   }
  },
  {
   "cell_type": "code",
   "execution_count": 9,
   "outputs": [
    {
     "data": {
      "text/plain": "[StepArtists(step=<matplotlib.lines.Line2D object at 0x7f93cb9e4970>, errorbar=None, legend_artist=None)]"
     },
     "execution_count": 9,
     "metadata": {},
     "output_type": "execute_result"
    },
    {
     "data": {
      "text/plain": "<Figure size 432x288 with 1 Axes>",
      "image/png": "[encoded data removed]"
     },
     "metadata": {
      "needs_background": "light"
     },
     "output_type": "display_data"
    }
   ],
   "source": [
    "# Plotting existing histograms:\n",
    "file['norad2'].to_hist().plot()"
   ],
   "metadata": {
    "collapsed": false,
    "pycharm": {
     "name": "#%%\n"
    }
   }
  },
  {
   "cell_type": "code",
   "execution_count": 10,
   "outputs": [
    {
     "data": {
      "text/plain": "ColormeshArtists(pcolormesh=<matplotlib.collections.QuadMesh object at 0x7f93cb9c0eb0>, cbar=<matplotlib.colorbar.Colorbar object at 0x7f93cb953310>)"
     },
     "execution_count": 10,
     "metadata": {},
     "output_type": "execute_result"
    },
    {
     "data": {
      "text/plain": "<Figure size 462.24x288 with 2 Axes>",
      "image/png": "[encoded data removed]"
     },
     "metadata": {
      "needs_background": "light"
     },
     "output_type": "display_data"
    }
   ],
   "source": [
    "# Plotting existing 2D histograms\n",
    "file['trka2'].to_hist().plot()\n"
   ],
   "metadata": {
    "collapsed": false,
    "pycharm": {
     "name": "#%%\n"
    }
   }
  }
 ],
 "metadata": {
  "kernelspec": {
   "display_name": "Python 3",
   "language": "python",
   "name": "python3"
  },
  "language_info": {
   "codemirror_mode": {
    "name": "ipython",
    "version": 2
   },
   "file_extension": ".py",
   "mimetype": "text/x-python",
   "name": "python",
   "nbconvert_exporter": "python",
   "pygments_lexer": "ipython2",
   "version": "2.7.6"
  }
 },
 "nbformat": 4,
 "nbformat_minor": 0
}